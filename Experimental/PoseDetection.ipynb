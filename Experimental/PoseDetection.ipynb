{
 "cells": [
  {
   "cell_type": "markdown",
   "metadata": {},
   "source": [
    "**1. Import dependencies**"
   ]
  },
  {
   "cell_type": "code",
   "execution_count": 1,
   "metadata": {},
   "outputs": [
    {
     "name": "stderr",
     "output_type": "stream",
     "text": [
      "2024-05-06 19:03:31.456461: I tensorflow/core/platform/cpu_feature_guard.cc:210] This TensorFlow binary is optimized to use available CPU instructions in performance-critical operations.\n",
      "To enable the following instructions: AVX2 AVX512F AVX512_VNNI FMA, in other operations, rebuild TensorFlow with the appropriate compiler flags.\n"
     ]
    }
   ],
   "source": [
    "import tensorflow as tf\n",
    "import matplotlib.pyplot as plt\n",
    "import numpy as np\n",
    "import pandas as pd\n",
    "import tensorflow.keras.preprocessing.image as Image\n",
    "import cv2\n",
    "from tf_bodypix.api import download_model, load_model, BodyPixModelPaths\n",
    "from tf_bodypix.draw import draw_pose  # utility function using OpenCV\n",
    "from pathlib import Path"
   ]
  },
  {
   "cell_type": "markdown",
   "metadata": {},
   "source": [
    "**2. Init Constant**"
   ]
  },
  {
   "cell_type": "code",
   "execution_count": 2,
   "metadata": {},
   "outputs": [],
   "source": [
    "body_parts = {\n",
    "  'left_arm': ['left_upper_arm_front', 'left_upper_arm_back', 'left_lower_arm_front', 'left_lower_arm_back'],\n",
    "  'right_arm': ['right_upper_arm_front', 'right_upper_arm_back', 'right_lower_arm_front', 'right_lower_arm_back'],\n",
    "  'torso': ['torso_front', 'torso_back'],\n",
    "  'left_leg': ['left_upper_leg_front', 'left_upper_leg_back', 'left_lower_leg_front', 'left_lower_leg_back'],\n",
    "  'right_leg': ['right_upper_leg_front', 'right_upper_leg_back', 'right_lower_leg_front', 'right_lower_leg_back']\n",
    "}"
   ]
  },
  {
   "cell_type": "code",
   "execution_count": 3,
   "metadata": {},
   "outputs": [],
   "source": [
    "skeleton_parts = {\n",
    "  'head': ['leftEar', 'rightEar'],\n",
    "  'left_arm': ['leftShoulder', 'leftElbow'],\n",
    "  'right_arm': ['rightShoulder', 'rightElbow'],\n",
    "  'torso': {\n",
    "      'shoulder': ['leftShoulder', 'rightShoulder'],\n",
    "      'hip': ['leftHip', 'rightHip']\n",
    "  },\n",
    "  'left_leg': ['leftHip', 'leftKnee'],\n",
    "  'right_leg': ['rightHip', 'rightKnee'],\n",
    "  'knee': ['leftKnee', 'rightKnee']\n",
    "}"
   ]
  },
  {
   "cell_type": "code",
   "execution_count": 4,
   "metadata": {},
   "outputs": [
    {
     "name": "stdout",
     "output_type": "stream",
     "text": [
      "<class 'pandas.core.frame.DataFrame'>\n",
      "RangeIndex: 6134 entries, 0 to 6133\n",
      "Data columns (total 5 columns):\n",
      " #   Column      Non-Null Count  Dtype  \n",
      "---  ------      --------------  -----  \n",
      " 0   subject_id  6134 non-null   object \n",
      " 1   gender      6134 non-null   object \n",
      " 2   height_cm   6134 non-null   float64\n",
      " 3   weight_kg   6134 non-null   float64\n",
      " 4   photo_id    6134 non-null   object \n",
      "dtypes: float64(2), object(3)\n",
      "memory usage: 239.7+ KB\n"
     ]
    }
   ],
   "source": [
    "# read from csv\n",
    "df_1 = pd.read_csv('../dataset/train/hwg_metadata.csv')\n",
    "df_2 = pd.read_csv('../dataset/train/subject_to_photo_map.csv')\n",
    "\n",
    "# map the two dataframes by subject_id column\n",
    "df_train = pd.merge(df_1, df_2, on='subject_id')\n",
    "df_train.info()"
   ]
  },
  {
   "cell_type": "code",
   "execution_count": 5,
   "metadata": {},
   "outputs": [
    {
     "name": "stdout",
     "output_type": "stream",
     "text": [
      "<class 'pandas.core.frame.DataFrame'>\n",
      "RangeIndex: 1684 entries, 0 to 1683\n",
      "Data columns (total 5 columns):\n",
      " #   Column      Non-Null Count  Dtype  \n",
      "---  ------      --------------  -----  \n",
      " 0   subject_id  1684 non-null   object \n",
      " 1   gender      1684 non-null   object \n",
      " 2   height_cm   1684 non-null   float64\n",
      " 3   weight_kg   1684 non-null   float64\n",
      " 4   photo_id    1684 non-null   object \n",
      "dtypes: float64(2), object(3)\n",
      "memory usage: 65.9+ KB\n"
     ]
    }
   ],
   "source": [
    "# read from csv\n",
    "df_1 = pd.read_csv('../dataset/testA/hwg_metadata.csv')\n",
    "df_2 = pd.read_csv('../dataset/testA/subject_to_photo_map.csv')\n",
    "\n",
    "# map the two dataframes by subject_id column\n",
    "df_testA = pd.merge(df_1, df_2, on='subject_id')\n",
    "df_testA.info()"
   ]
  },
  {
   "cell_type": "code",
   "execution_count": 6,
   "metadata": {},
   "outputs": [
    {
     "name": "stdout",
     "output_type": "stream",
     "text": [
      "<class 'pandas.core.frame.DataFrame'>\n",
      "RangeIndex: 1160 entries, 0 to 1159\n",
      "Data columns (total 5 columns):\n",
      " #   Column      Non-Null Count  Dtype  \n",
      "---  ------      --------------  -----  \n",
      " 0   subject_id  1160 non-null   object \n",
      " 1   gender      1160 non-null   object \n",
      " 2   height_cm   1160 non-null   float64\n",
      " 3   weight_kg   1160 non-null   float64\n",
      " 4   photo_id    1160 non-null   object \n",
      "dtypes: float64(2), object(3)\n",
      "memory usage: 45.4+ KB\n"
     ]
    }
   ],
   "source": [
    "# read from csv\n",
    "df_1 = pd.read_csv('../dataset/testB/hwg_metadata.csv')\n",
    "df_2 = pd.read_csv('../dataset/testB/subject_to_photo_map.csv')\n",
    "\n",
    "# map the two dataframes by subject_id column\n",
    "df_testB = pd.merge(df_1, df_2, on='subject_id')\n",
    "df_testB.info()"
   ]
  },
  {
   "cell_type": "code",
   "execution_count": 7,
   "metadata": {},
   "outputs": [
    {
     "name": "stdout",
     "output_type": "stream",
     "text": [
      "<class 'pandas.core.frame.DataFrame'>\n",
      "RangeIndex: 2844 entries, 0 to 2843\n",
      "Data columns (total 5 columns):\n",
      " #   Column      Non-Null Count  Dtype  \n",
      "---  ------      --------------  -----  \n",
      " 0   subject_id  2844 non-null   object \n",
      " 1   gender      2844 non-null   object \n",
      " 2   height_cm   2844 non-null   float64\n",
      " 3   weight_kg   2844 non-null   float64\n",
      " 4   photo_id    2844 non-null   object \n",
      "dtypes: float64(2), object(3)\n",
      "memory usage: 111.2+ KB\n"
     ]
    }
   ],
   "source": [
    "# thêm df_testB vào df_testA\n",
    "df_test = pd.concat([df_testA, df_testB], ignore_index=True)\n",
    "df_test.info()"
   ]
  },
  {
   "cell_type": "markdown",
   "metadata": {},
   "source": [
    "**Load images**"
   ]
  },
  {
   "cell_type": "code",
   "execution_count": 8,
   "metadata": {},
   "outputs": [],
   "source": [
    "# load train set\n",
    "train = {\n",
    "  'image_path': [],\n",
    "  'label': []\n",
    "}\n",
    "\n",
    "# duyệt qua toàn bộ df_train\n",
    "for index, row in df_train.iterrows():\n",
    "    # lấy ra path của ảnh\n",
    "    image_name = row['photo_id']\n",
    "    image_path = \"../dataset/train/mask/\" + image_name + \".png\"\n",
    "\n",
    "    # nếu image_path tồn tại, thêm vào mảng train_images\n",
    "    if Path(image_path).is_file():\n",
    "        train['image_path'].append(image_path)\n",
    "    else:\n",
    "        print(image_path)\n",
    "\n",
    "    height, weight= row['height_cm'], row['weight_kg']\n",
    "    bmi = weight / ((height / 100) ** 2)\n",
    "    train['label'].append(bmi)"
   ]
  },
  {
   "cell_type": "code",
   "execution_count": 9,
   "metadata": {},
   "outputs": [],
   "source": [
    "# load test set\n",
    "test = {\n",
    "  'image_path': [],\n",
    "  'label': []\n",
    "}\n",
    "\n",
    "# duyệt qua toàn bộ df_test\n",
    "for index, row in df_test.iterrows():\n",
    "    # lấy ra path của ảnh\n",
    "    image_name = row['photo_id']\n",
    "    image_path = \"../dataset/testA/mask/\" + image_name + \".png\"\n",
    "\n",
    "    # nếu image_path tồn tại, thêm vào mảng train_images\n",
    "    if Path(image_path).is_file():\n",
    "        test['image_path'].append(image_path)\n",
    "    else:\n",
    "        image_path = \"../dataset/testB/mask/\" + image_name + \".png\"\n",
    "        test['image_path'].append(image_path)\n",
    "\n",
    "    if not Path(image_path).is_file():\n",
    "      print(image_path)\n",
    "\n",
    "    height, weight= row['height_cm'], row['weight_kg']\n",
    "    bmi = weight / ((height / 100) ** 2)\n",
    "    test['label'].append(bmi)"
   ]
  },
  {
   "cell_type": "markdown",
   "metadata": {},
   "source": [
    "**3. Load model**"
   ]
  },
  {
   "cell_type": "code",
   "execution_count": 10,
   "metadata": {},
   "outputs": [
    {
     "name": "stderr",
     "output_type": "stream",
     "text": [
      "2024-05-06 19:03:41.900001: I tensorflow/core/grappler/devices.cc:75] Number of eligible GPUs (core count >= 8, compute capability >= 0.0): 0 (Note: TensorFlow was not compiled with CUDA or ROCm support)\n"
     ]
    }
   ],
   "source": [
    "model_path = BodyPixModelPaths.RESNET50_FLOAT_STRIDE_16\n",
    "downloaded_model = download_model(model_path)\n",
    "bodypix_model = load_model(downloaded_model)"
   ]
  },
  {
   "cell_type": "markdown",
   "metadata": {},
   "source": [
    "**Def function**"
   ]
  },
  {
   "cell_type": "code",
   "execution_count": 11,
   "metadata": {},
   "outputs": [],
   "source": [
    "# def function get position of keypoint by name, round to integer\n",
    "def get_keypoint_position(keypoints, name):\n",
    "  for idx in keypoints:\n",
    "    if keypoints[idx].part == name:\n",
    "      return int(keypoints[idx].position.x), int(keypoints[idx].position.y)\n",
    "  return None, None\n",
    "\n",
    "# def function get position of keypoint by names\n",
    "def get_keypoints_position(keypoints, names):\n",
    "  positions = []\n",
    "  \n",
    "  for name in names:\n",
    "    x, y = get_keypoint_position(keypoints, name)\n",
    "    positions.append((x, y))\n",
    "  return positions\n",
    "\n",
    "# def function get center position of keypoint by names\n",
    "def get_center_position(keypoints, names):\n",
    "  positions = get_keypoints_position(keypoints, names)\n",
    "  x = sum([position[0] for position in positions]) / len(positions)\n",
    "  y = sum([position[1] for position in positions]) / len(positions)\n",
    "  return x, y\n",
    "\n",
    "# def function to find a, b that y = ax + b\n",
    "def find_line_equation(x1, y1, x2, y2):\n",
    "  a = (y2 - y1) / (x2 - x1)\n",
    "  b = y1 - a * x1\n",
    "  return a, b\n",
    "\n",
    "# def function to check if a point is in a line\n",
    "def is_point_in_line(x, y, a, b):\n",
    "  return y == a * x + b\n",
    "\n",
    "# hàm lấy đường trung trực của 1 đoạn thẳng\n",
    "def get_perpendicular_bisector(x1, y1, x2, y2):\n",
    "  a, b = find_line_equation(x1, y1, x2, y2)\n",
    "  x = (x1 + x2) / 2\n",
    "  y = (y1 + y2) / 2\n",
    "  a_perpendicular = -1 / a\n",
    "  b_perpendicular = y - a_perpendicular * x\n",
    "  return a_perpendicular, b_perpendicular\n",
    "\n",
    "# hàm tính khoảng cách từ điểm đến đường thẳng\n",
    "def distance_to_line(x, y, a, b):\n",
    "  return abs(a * x - y + b) / (a ** 2 + 1) ** 0.5\n",
    "\n",
    "# hàm lấy ra dữ liệu màu RGB của 1 bức ảnh, trả về shape (width, height, 3)\n",
    "def get_image_data(image):\n",
    "  return np.array(image)\n",
    "\n",
    "# hàm kiểm tra xem pixel tại vị trí đó có phải màu đen không, đầu là image_data có shape (width, height, 3)\n",
    "def is_black_pixel(image_data, x, y):\n",
    "  return np.all(image_data[y, x] == 0)\n",
    "\n",
    "# hàm tính khoảng cách giữa 2 điểm\n",
    "def distance(x1, y1, x2, y2):\n",
    "  return ((x1 - x2) ** 2 + (y1 - y2) ** 2) ** 0.5"
   ]
  },
  {
   "cell_type": "code",
   "execution_count": 12,
   "metadata": {},
   "outputs": [],
   "source": [
    "# hàm tính chiều rộng chân trái\n",
    "def get_left_leg_width(image_data, keypoints):\n",
    "  x, y = get_center_position(keypoints, skeleton_parts['left_leg'])\n",
    "  x_tmp = int(x)\n",
    "  y_tmp = int(y)\n",
    "\n",
    "  while not is_black_pixel(image_data, x_tmp, y_tmp):\n",
    "    x_tmp = x_tmp + 1\n",
    "  \n",
    "  x_last = x_tmp\n",
    "  x_tmp = int(x)\n",
    "\n",
    "  while not is_black_pixel(image_data, x_tmp, y_tmp):\n",
    "    x_tmp = x_tmp - 1\n",
    "\n",
    "  x_first = x_tmp\n",
    "  return x_last - x_first"
   ]
  },
  {
   "cell_type": "code",
   "execution_count": 13,
   "metadata": {},
   "outputs": [],
   "source": [
    "# hàm tính chiều rộng chân phải\n",
    "def get_right_leg_width(image_data, keypoints):\n",
    "  x, y = get_center_position(keypoints, skeleton_parts['right_leg'])\n",
    "  x_tmp = int(x)\n",
    "  y_tmp = int(y)\n",
    "\n",
    "  while not is_black_pixel(image_data, x_tmp, y_tmp):\n",
    "    x_tmp = x_tmp + 1\n",
    "  \n",
    "  x_last = x_tmp\n",
    "  x_tmp = int(x)\n",
    "\n",
    "  while not is_black_pixel(image_data, x_tmp, y_tmp):\n",
    "    x_tmp = x_tmp - 1\n",
    "\n",
    "  x_first = x_tmp\n",
    "  return x_last - x_first"
   ]
  },
  {
   "cell_type": "code",
   "execution_count": 14,
   "metadata": {},
   "outputs": [],
   "source": [
    "# hàm tính chiều rộng trung bình 2 chân\n",
    "def get_average_leg_width(image_data, keypoints):\n",
    "  left_leg_witdh = get_left_leg_width(image_data, keypoints)\n",
    "  right_leg_width = get_right_leg_width(image_data, keypoints)\n",
    "  return (left_leg_witdh + right_leg_width) / 2"
   ]
  },
  {
   "cell_type": "code",
   "execution_count": 15,
   "metadata": {},
   "outputs": [],
   "source": [
    "# hàm tính chiều rộng đầu\n",
    "def get_head_width(image_data, keypoints):\n",
    "  x, y = get_center_position(keypoints, skeleton_parts['head'])\n",
    "  x_tmp = int(x)\n",
    "  y_tmp = int(y)\n",
    "\n",
    "  while not is_black_pixel(image_data, x_tmp, y_tmp):\n",
    "    x_tmp = x_tmp + 1\n",
    "\n",
    "  x_last = x_tmp\n",
    "  x_tmp = int(x)\n",
    "\n",
    "  while not is_black_pixel(image_data, x_tmp, y_tmp):\n",
    "    x_tmp = x_tmp - 1\n",
    "\n",
    "  x_first = x_tmp\n",
    "  return x_last - x_first"
   ]
  },
  {
   "cell_type": "code",
   "execution_count": 16,
   "metadata": {},
   "outputs": [],
   "source": [
    "# hàm tính chiều rộng thắt lưng\n",
    "def get_waist_width(image_data, keypoints):\n",
    "  _, y_h = get_center_position(keypoints, skeleton_parts['torso']['hip'])\n",
    "  _, y_n = get_keypoint_position(keypoints, 'nose')\n",
    "  x_cs, y_cs = get_center_position(keypoints, skeleton_parts['torso']['shoulder'])\n",
    "\n",
    "  y_w = int(2 * y_h / 3 + 1 * (y_n + y_cs) / 6)\n",
    "  x_cw = int(x_cs)\n",
    "\n",
    "  while not is_black_pixel(image_data, x_cw, y_w):\n",
    "    x_cw = x_cw + 1\n",
    "\n",
    "  x_last = x_cw\n",
    "  x_cw = int(x_cs)\n",
    "\n",
    "  while not is_black_pixel(image_data, x_cw, y_w):\n",
    "    x_cw = x_cw - 1\n",
    "\n",
    "  x_first = x_cw\n",
    "  return x_last - x_first"
   ]
  },
  {
   "cell_type": "code",
   "execution_count": 17,
   "metadata": {},
   "outputs": [],
   "source": [
    "# hàm tính chiều rộng hông\n",
    "def get_hip_width(image_data, keypoints):\n",
    "  x, y = get_center_position(keypoints, skeleton_parts['torso']['hip'])\n",
    "  x_tmp = int(x)\n",
    "  y_tmp = int(y)\n",
    "\n",
    "  while not is_black_pixel(image_data, x_tmp, y_tmp):\n",
    "    x_tmp = x_tmp + 1\n",
    "\n",
    "  x_last = x_tmp\n",
    "  x_tmp = int(x)\n",
    "\n",
    "  while not is_black_pixel(image_data, x_tmp, y_tmp):\n",
    "    x_tmp = x_tmp - 1\n",
    "\n",
    "  x_first = x_tmp\n",
    "  return x_last - x_first"
   ]
  },
  {
   "cell_type": "code",
   "execution_count": 18,
   "metadata": {},
   "outputs": [],
   "source": [
    "# hàm đếm số pixel\n",
    "def count_pixel(image_data, x1, y1, x2, y2):\n",
    "  count = 0\n",
    "\n",
    "  # kiểm tra toạ độ là số nguyên\n",
    "  x1 = int(x1)\n",
    "  y1 = int(y1)\n",
    "  x2 = int(x2)\n",
    "  y2 = int(y2)\n",
    "\n",
    "  for x in range(x1, x2):\n",
    "    for y in range(y1, y2):\n",
    "      if not is_black_pixel(image_data, x, y):\n",
    "        count += 1\n",
    "  return count\n",
    "\n",
    "# hàm tính diện tích hình thang khi biết 4 đỉnh\n",
    "def trapezoid_area(a, b, h):\n",
    "  return (a + b) * h / 2"
   ]
  },
  {
   "cell_type": "code",
   "execution_count": 19,
   "metadata": {},
   "outputs": [],
   "source": [
    "# hàm tính diện tích torso\n",
    "def get_torso_area(image_data, keypoints, waist_width, hip_width):\n",
    "  _, y_h = get_center_position(keypoints, skeleton_parts['torso']['hip'])\n",
    "  _, y_n = get_keypoint_position(keypoints, 'nose')\n",
    "  _, y_cs = get_center_position(keypoints, skeleton_parts['torso']['shoulder'])\n",
    "\n",
    "  y_w = int(2 * y_h / 3 + 1 * (y_n + y_cs) / 6)\n",
    "\n",
    "  num_pixel = count_pixel(image_data, 0, y_w, image_data.shape[1], y_h)\n",
    "  h = y_h - y_w\n",
    "\n",
    "  return num_pixel / trapezoid_area(waist_width, hip_width, h)"
   ]
  },
  {
   "cell_type": "code",
   "execution_count": 20,
   "metadata": {},
   "outputs": [],
   "source": [
    "# hàm lấy tỉ lệ waist width to thigh width\n",
    "def get_waist_to_thigh_ratio(waist_width, thigh_width):\n",
    "  return waist_width / thigh_width\n",
    "\n",
    "# hàm lấy tỉ lệ waist width to hip width\n",
    "def get_waist_to_hip_ratio(waist_width, hip_width):\n",
    "  return waist_width / hip_width\n",
    "\n",
    "# hàm lấy tỉ lệ waist width to head width\n",
    "def get_waist_to_head_ratio(waist_width, head_width):\n",
    "  return waist_width / head_width\n",
    "\n",
    "# hàm lấy tỉ lệ hip width to head width\n",
    "def get_hip_to_head_ratio(hip_width, head_width):\n",
    "  return hip_width / head_width"
   ]
  },
  {
   "cell_type": "code",
   "execution_count": 21,
   "metadata": {},
   "outputs": [],
   "source": [
    "# hàm tính chiều rộng tổng hợp\n",
    "def get_overall_width(image_data, keypoints):\n",
    "  head_width = get_head_width(image_data, keypoints)\n",
    "  waist_width = get_waist_width(image_data, keypoints)\n",
    "  hip_width = get_hip_width(image_data, keypoints)\n",
    "  thigh_width = get_average_leg_width(image_data, keypoints)\n",
    "\n",
    "  return head_width, waist_width, hip_width, thigh_width"
   ]
  },
  {
   "cell_type": "code",
   "execution_count": 22,
   "metadata": {},
   "outputs": [],
   "source": [
    "# hàm tính tỉ lệ tổng hợp\n",
    "def get_overall_ratio(image_data, keypoints):\n",
    "  head_width, waist_width, hip_width, thigh_width = get_overall_width(image_data, keypoints)\n",
    "\n",
    "  if head_width == 0 or waist_width == 0 or hip_width == 0 or thigh_width == 0:\n",
    "    return 0, 0, 0, 0, 0\n",
    "  \n",
    "  WTR = get_waist_to_thigh_ratio(waist_width, thigh_width)\n",
    "  WHpR = get_waist_to_hip_ratio(waist_width, hip_width)\n",
    "  WHdR = get_waist_to_head_ratio(waist_width, head_width)\n",
    "  HpHdR = get_hip_to_head_ratio(hip_width, head_width)\n",
    "  Area = get_torso_area(image_data, keypoints, waist_width, hip_width)\n",
    "\n",
    "  return WTR, WHpR, WHdR, HpHdR, Area"
   ]
  },
  {
   "cell_type": "markdown",
   "metadata": {},
   "source": [
    "**4. Detections - Feature Extraction**"
   ]
  },
  {
   "cell_type": "code",
   "execution_count": 23,
   "metadata": {},
   "outputs": [],
   "source": [
    "train_limit = 1000\n",
    "test_limit = 200"
   ]
  },
  {
   "cell_type": "code",
   "execution_count": 24,
   "metadata": {},
   "outputs": [],
   "source": [
    "X_train = []\n",
    "X_test = []\n",
    "y_train = train['label']\n",
    "y_test = test['label']"
   ]
  },
  {
   "cell_type": "code",
   "execution_count": 25,
   "metadata": {},
   "outputs": [
    {
     "name": "stdout",
     "output_type": "stream",
     "text": [
      "Progress: 0/6134\n",
      "Progress: 100/6134\n",
      "Progress: 200/6134\n",
      "Progress: 300/6134\n",
      "Progress: 400/6134\n",
      "Progress: 500/6134\n",
      "Progress: 600/6134\n",
      "Progress: 700/6134\n",
      "Progress: 800/6134\n",
      "Progress: 900/6134\n",
      "Progress: 1000/6134\n",
      "Progress: 1100/6134\n",
      "Progress: 1200/6134\n",
      "Progress: 1300/6134\n",
      "Progress: 1400/6134\n",
      "Progress: 1500/6134\n",
      "Progress: 1600/6134\n",
      "Progress: 1700/6134\n",
      "Progress: 1800/6134\n",
      "Progress: 1900/6134\n",
      "Progress: 2000/6134\n",
      "Progress: 2100/6134\n",
      "Progress: 2200/6134\n",
      "Progress: 2300/6134\n",
      "Progress: 2400/6134\n",
      "Progress: 2500/6134\n",
      "Progress: 2600/6134\n",
      "Progress: 2700/6134\n",
      "Progress: 2800/6134\n",
      "Progress: 2900/6134\n",
      "Progress: 3000/6134\n",
      "Progress: 3100/6134\n",
      "Progress: 3200/6134\n",
      "Progress: 3300/6134\n",
      "Progress: 3400/6134\n",
      "Progress: 3600/6134\n",
      "Progress: 3700/6134\n",
      "Progress: 3800/6134\n",
      "Progress: 3900/6134\n",
      "Progress: 4000/6134\n",
      "Progress: 4100/6134\n",
      "Progress: 4200/6134\n",
      "Progress: 4300/6134\n",
      "Progress: 4400/6134\n",
      "Progress: 4500/6134\n",
      "Progress: 4600/6134\n",
      "Progress: 4700/6134\n",
      "Progress: 4800/6134\n",
      "Progress: 4900/6134\n",
      "Progress: 5000/6134\n",
      "Progress: 5100/6134\n",
      "Progress: 5200/6134\n",
      "Progress: 5300/6134\n",
      "Progress: 5400/6134\n",
      "Progress: 5500/6134\n",
      "Progress: 5600/6134\n",
      "Progress: 5700/6134\n",
      "Progress: 5800/6134\n",
      "Progress: 5900/6134\n",
      "Progress: 6000/6134\n",
      "Progress: 6100/6134\n"
     ]
    }
   ],
   "source": [
    "# duyệt qua train_limit ảnh trong mảng train['image_path'], có đánh chỉ mục\n",
    "for i, image_path in enumerate(train['image_path']):\n",
    "  # if i == train_limit:\n",
    "  #   break\n",
    "  \n",
    "  # đọc ảnh từ image_path\n",
    "  image = Image.load_img(image_path)\n",
    "  image_array = Image.img_to_array(image)\n",
    "  image_data = get_image_data(image)\n",
    "\n",
    "  # predict\n",
    "  result = bodypix_model.predict_single(image_array)\n",
    "  poses = result.get_poses()\n",
    "\n",
    "  if len(poses) == 0:\n",
    "    y_train[i] = None\n",
    "    continue\n",
    "  keypoints = poses[0].keypoints\n",
    "  \n",
    "  WTR, WHpR, WHdR, HpHdR, Area = get_overall_ratio(image_data, keypoints)\n",
    "  features = [WTR, WHpR, WHdR, HpHdR, Area]\n",
    "  X_train.append(features)\n",
    "\n",
    "  # Tracking progress\n",
    "  if i % 100 == 0:\n",
    "    print(f\"Progress: {i}/{len(train['image_path'])}\")"
   ]
  },
  {
   "cell_type": "code",
   "execution_count": 26,
   "metadata": {},
   "outputs": [],
   "source": [
    "# duyệt qua y_train, nếu giá trị là None thì xoá phần tử đó ra khỏi mảng\n",
    "for i in range(len(y_train) - 1, -1, -1):\n",
    "  if y_train[i] == None:\n",
    "    del y_train[i]\n",
    "\n",
    "# duyệt qua X_train, nếu giá trị là mảng all 0 thì xoá phần tử đó\n",
    "for i in range(len(X_train) - 1, -1, -1):\n",
    "  if X_train[i] == [0, 0, 0, 0, 0]:\n",
    "    del X_train[i]\n",
    "    del y_train[i]"
   ]
  },
  {
   "cell_type": "code",
   "execution_count": 27,
   "metadata": {},
   "outputs": [],
   "source": [
    "X_train = np.array(X_train)\n",
    "y_train = np.array(y_train)"
   ]
  },
  {
   "cell_type": "code",
   "execution_count": 28,
   "metadata": {},
   "outputs": [
    {
     "data": {
      "text/plain": [
       "((5428, 5), (5428,))"
      ]
     },
     "execution_count": 28,
     "metadata": {},
     "output_type": "execute_result"
    }
   ],
   "source": [
    "X_train.shape, y_train.shape"
   ]
  },
  {
   "cell_type": "code",
   "execution_count": 29,
   "metadata": {},
   "outputs": [
    {
     "name": "stdout",
     "output_type": "stream",
     "text": [
      "Progress: 0/2844\n",
      "Progress: 100/2844\n",
      "Progress: 200/2844\n",
      "Progress: 300/2844\n",
      "Progress: 400/2844\n",
      "Progress: 500/2844\n",
      "Progress: 700/2844\n",
      "Progress: 800/2844\n",
      "Progress: 900/2844\n",
      "Progress: 1000/2844\n",
      "Progress: 1100/2844\n",
      "Progress: 1200/2844\n",
      "Progress: 1300/2844\n",
      "Progress: 1400/2844\n",
      "Progress: 1500/2844\n",
      "Progress: 1600/2844\n",
      "Progress: 1700/2844\n",
      "Progress: 1800/2844\n",
      "Progress: 1900/2844\n",
      "Progress: 2000/2844\n",
      "Progress: 2100/2844\n",
      "Progress: 2200/2844\n",
      "Progress: 2300/2844\n",
      "Progress: 2400/2844\n",
      "Progress: 2500/2844\n",
      "Progress: 2600/2844\n",
      "Progress: 2700/2844\n",
      "Progress: 2800/2844\n"
     ]
    }
   ],
   "source": [
    "# duyệt qua test_limit ảnh trong mảng test['image_path'], có đánh chỉ mục\n",
    "for i, image_path in enumerate(test['image_path']):\n",
    "  # if i == test_limit:\n",
    "  #   break\n",
    "\n",
    "  # đọc ảnh từ image_path\n",
    "  image = Image.load_img(image_path)\n",
    "  image_array = Image.img_to_array(image)\n",
    "  image_data = get_image_data(image)\n",
    "\n",
    "  # predict\n",
    "  result = bodypix_model.predict_single(image_array)\n",
    "  poses = result.get_poses()\n",
    "\n",
    "  if len(poses) == 0:\n",
    "    y_test[i] = None\n",
    "    continue\n",
    "  keypoints = poses[0].keypoints\n",
    "  \n",
    "  WTR, WHpR, WHdR, HpHdR, Area = get_overall_ratio(image_data, keypoints)\n",
    "  features = [WTR, WHpR, WHdR, HpHdR, Area]\n",
    "  X_test.append(features)\n",
    "\n",
    "  # Tracking progress\n",
    "  if i % 100 == 0:\n",
    "    print(f\"Progress: {i}/{len(test['image_path'])}\")"
   ]
  },
  {
   "cell_type": "code",
   "execution_count": 30,
   "metadata": {},
   "outputs": [],
   "source": [
    "# duyệt qua y_test, nếu giá trị là None thì xoá phần tử đó\n",
    "for i in range(len(y_test) - 1, -1, -1):\n",
    "  if y_test[i] is None:\n",
    "    del y_test[i]\n",
    "\n",
    "# duyệt qua X_test, nếu giá trị là mảng all 0 thì xoá phần tử đó\n",
    "for i in range(len(X_test) - 1, -1, -1):\n",
    "  if X_test[i] == [0, 0, 0, 0, 0]:\n",
    "    del X_test[i]\n",
    "    del y_test[i]"
   ]
  },
  {
   "cell_type": "code",
   "execution_count": 31,
   "metadata": {},
   "outputs": [],
   "source": [
    "X_test = np.array(X_test)\n",
    "y_test = np.array(y_test)"
   ]
  },
  {
   "cell_type": "code",
   "execution_count": 32,
   "metadata": {},
   "outputs": [
    {
     "data": {
      "text/plain": [
       "((2465, 5), (2465,))"
      ]
     },
     "execution_count": 32,
     "metadata": {},
     "output_type": "execute_result"
    }
   ],
   "source": [
    "X_test.shape, y_test.shape"
   ]
  },
  {
   "cell_type": "markdown",
   "metadata": {},
   "source": [
    "**5. Predict with models**"
   ]
  },
  {
   "cell_type": "code",
   "execution_count": 39,
   "metadata": {},
   "outputs": [],
   "source": [
    "# import Gradient Boosting, SVR, Random Forest\n",
    "from sklearn.ensemble import GradientBoostingRegressor, RandomForestRegressor\n",
    "from sklearn.svm import SVR\n",
    "\n",
    "# import metrics to evaluate the model\n",
    "from sklearn.metrics import mean_squared_error, mean_absolute_error"
   ]
  },
  {
   "cell_type": "code",
   "execution_count": 41,
   "metadata": {},
   "outputs": [
    {
     "data": {
      "text/html": [
       "<div>\n",
       "<style scoped>\n",
       "    .dataframe tbody tr th:only-of-type {\n",
       "        vertical-align: middle;\n",
       "    }\n",
       "\n",
       "    .dataframe tbody tr th {\n",
       "        vertical-align: top;\n",
       "    }\n",
       "\n",
       "    .dataframe thead th {\n",
       "        text-align: right;\n",
       "    }\n",
       "</style>\n",
       "<table border=\"1\" class=\"dataframe\">\n",
       "  <thead>\n",
       "    <tr style=\"text-align: right;\">\n",
       "      <th></th>\n",
       "      <th>MSE</th>\n",
       "      <th>MAE</th>\n",
       "    </tr>\n",
       "  </thead>\n",
       "  <tbody>\n",
       "    <tr>\n",
       "      <th>0</th>\n",
       "      <td>18.218588</td>\n",
       "      <td>3.172376</td>\n",
       "    </tr>\n",
       "  </tbody>\n",
       "</table>\n",
       "</div>"
      ],
      "text/plain": [
       "         MSE       MAE\n",
       "0  18.218588  3.172376"
      ]
     },
     "execution_count": 41,
     "metadata": {},
     "output_type": "execute_result"
    }
   ],
   "source": [
    "# Random Forest\n",
    "rdf = RandomForestRegressor()\n",
    "rdf.fit(X_train, y_train)\n",
    "y_pred = rdf.predict(X_test)\n",
    "mse = mean_squared_error(y_test, y_pred)\n",
    "mae = mean_absolute_error(y_test, y_pred)\n",
    "\n",
    "# show the 3 metrics in the table format using dataframe\n",
    "pd.DataFrame({\n",
    "  'MSE': [mse],\n",
    "  'MAE': [mae],\n",
    "})"
   ]
  },
  {
   "cell_type": "code",
   "execution_count": 42,
   "metadata": {},
   "outputs": [
    {
     "data": {
      "image/png": "[encoded data removed]",
      "text/plain": [
       "<Figure size 640x480 with 1 Axes>"
      ]
     },
     "metadata": {},
     "output_type": "display_data"
    }
   ],
   "source": [
    "# plot actual vs predicted\n",
    "plt.scatter(y_test, y_pred)\n",
    "plt.plot([0, 70], [0, 70], '--k')\n",
    "plt.xlabel('Actual BMI')\n",
    "plt.ylabel('Predicted BMI')\n",
    "plt.title('SVR')\n",
    "plt.show()"
   ]
  },
  {
   "cell_type": "code",
   "execution_count": 34,
   "metadata": {},
   "outputs": [
    {
     "data": {
      "text/html": [
       "<div>\n",
       "<style scoped>\n",
       "    .dataframe tbody tr th:only-of-type {\n",
       "        vertical-align: middle;\n",
       "    }\n",
       "\n",
       "    .dataframe tbody tr th {\n",
       "        vertical-align: top;\n",
       "    }\n",
       "\n",
       "    .dataframe thead th {\n",
       "        text-align: right;\n",
       "    }\n",
       "</style>\n",
       "<table border=\"1\" class=\"dataframe\">\n",
       "  <thead>\n",
       "    <tr style=\"text-align: right;\">\n",
       "      <th></th>\n",
       "      <th>MSE</th>\n",
       "      <th>MAE</th>\n",
       "    </tr>\n",
       "  </thead>\n",
       "  <tbody>\n",
       "    <tr>\n",
       "      <th>0</th>\n",
       "      <td>17.350732</td>\n",
       "      <td>3.062524</td>\n",
       "    </tr>\n",
       "  </tbody>\n",
       "</table>\n",
       "</div>"
      ],
      "text/plain": [
       "         MSE       MAE\n",
       "0  17.350732  3.062524"
      ]
     },
     "execution_count": 34,
     "metadata": {},
     "output_type": "execute_result"
    }
   ],
   "source": [
    "# SRV\n",
    "svr = SVR()\n",
    "svr.fit(X_train, y_train)\n",
    "y_pred = svr.predict(X_test)\n",
    "mse = mean_squared_error(y_test, y_pred)\n",
    "mae = mean_absolute_error(y_test, y_pred)\n",
    "\n",
    "# show the 3 metrics in the table format using dataframe\n",
    "pd.DataFrame({\n",
    "  'MSE': [mse],\n",
    "  'MAE': [mae],\n",
    "})"
   ]
  },
  {
   "cell_type": "code",
   "execution_count": 35,
   "metadata": {},
   "outputs": [
    {
     "data": {
      "image/png": "[encoded data removed]",
      "text/plain": [
       "<Figure size 640x480 with 1 Axes>"
      ]
     },
     "metadata": {},
     "output_type": "display_data"
    }
   ],
   "source": [
    "# plot actual vs predicted\n",
    "plt.scatter(y_test, y_pred)\n",
    "plt.plot([0, 70], [0, 70], '--k')\n",
    "plt.xlabel('Actual BMI')\n",
    "plt.ylabel('Predicted BMI')\n",
    "plt.title('SVR')\n",
    "plt.show()"
   ]
  },
  {
   "cell_type": "code",
   "execution_count": 36,
   "metadata": {},
   "outputs": [
    {
     "data": {
      "text/html": [
       "<div>\n",
       "<style scoped>\n",
       "    .dataframe tbody tr th:only-of-type {\n",
       "        vertical-align: middle;\n",
       "    }\n",
       "\n",
       "    .dataframe tbody tr th {\n",
       "        vertical-align: top;\n",
       "    }\n",
       "\n",
       "    .dataframe thead th {\n",
       "        text-align: right;\n",
       "    }\n",
       "</style>\n",
       "<table border=\"1\" class=\"dataframe\">\n",
       "  <thead>\n",
       "    <tr style=\"text-align: right;\">\n",
       "      <th></th>\n",
       "      <th>MSE</th>\n",
       "      <th>MAE</th>\n",
       "    </tr>\n",
       "  </thead>\n",
       "  <tbody>\n",
       "    <tr>\n",
       "      <th>0</th>\n",
       "      <td>16.976414</td>\n",
       "      <td>3.05981</td>\n",
       "    </tr>\n",
       "  </tbody>\n",
       "</table>\n",
       "</div>"
      ],
      "text/plain": [
       "         MSE      MAE\n",
       "0  16.976414  3.05981"
      ]
     },
     "execution_count": 36,
     "metadata": {},
     "output_type": "execute_result"
    }
   ],
   "source": [
    "# Gradient Boosting\n",
    "gb = GradientBoostingRegressor()\n",
    "gb.fit(X_train, y_train)\n",
    "y_pred = gb.predict(X_test)\n",
    "mse = mean_squared_error(y_test, y_pred)\n",
    "mae = mean_absolute_error(y_test, y_pred)\n",
    "\n",
    "# show the 3 metrics in the table format using dataframe\n",
    "pd.DataFrame({\n",
    "  'MSE': [mse],\n",
    "  'MAE': [mae],\n",
    "})"
   ]
  },
  {
   "cell_type": "code",
   "execution_count": 37,
   "metadata": {},
   "outputs": [
    {
     "data": {
      "image/png": "[encoded data removed]",
      "text/plain": [
       "<Figure size 640x480 with 1 Axes>"
      ]
     },
     "metadata": {},
     "output_type": "display_data"
    }
   ],
   "source": [
    "# plot actual vs predicted\n",
    "plt.scatter(y_test, y_pred)\n",
    "plt.plot([0, 70], [0, 70], '--k')\n",
    "plt.xlabel('Actual BMI')\n",
    "plt.ylabel('Predicted BMI')\n",
    "plt.title('Gradient Boosting')\n",
    "plt.show()"
   ]
  },
  {
   "cell_type": "code",
   "execution_count": null,
   "metadata": {},
   "outputs": [],
   "source": []
  }
 ],
 "metadata": {
  "kernelspec": {
   "display_name": "base",
   "language": "python",
   "name": "python3"
  },
  "language_info": {
   "codemirror_mode": {
    "name": "ipython",
    "version": 3
   },
   "file_extension": ".py",
   "mimetype": "text/x-python",
   "name": "python",
   "nbconvert_exporter": "python",
   "pygments_lexer": "ipython3",
   "version": "3.11.7"
  }
 },
 "nbformat": 4,
 "nbformat_minor": 2
}
